{
 "cells": [
  {
   "cell_type": "markdown",
   "id": "7542580e-faf4-452d-ae3b-ee318ab8b45c",
   "metadata": {},
   "source": [
    "## 1) Imports & configuration\n",
    "\n",
    "We import geospatial and visualization libraries and set basic paths.\n"
   ]
  },
  {
   "cell_type": "code",
   "execution_count": 21,
   "id": "dc3154e9-0684-4ca9-9d12-d8007174f60a",
   "metadata": {},
   "outputs": [],
   "source": [
    "# === INSTALL PACKAGES ===\n",
    "#print(\"⏳ Installing packages... please wait.\")\n",
    "\n",
    "#!pip install -q shapely pystac-client odc-stac pyproj rioxarray xarray numpy geopandas rasterio leafmap\n",
    "\n",
    "#print(\"✅ All packages installed successfully!\")"
   ]
  },
  {
   "cell_type": "code",
   "execution_count": 2,
   "id": "e8499ea1-1e6f-497d-b0e2-f7a0ac57ca05",
   "metadata": {},
   "outputs": [],
   "source": [
    "# === IMPORTS ===\n",
    "from shapely.geometry import box, shape, mapping\n",
    "from pystac_client import Client\n",
    "import odc.stac\n",
    "import pyproj\n",
    "import rioxarray\n",
    "import xarray as xr\n",
    "import numpy as np\n",
    "import geopandas as gpd\n",
    "import rasterio\n",
    "from rasterio.features import shapes\n",
    "import os\n",
    "import json, math\n",
    "\n",
    "import leafmap.maplibregl as leafmap"
   ]
  },
  {
   "cell_type": "markdown",
   "id": "addeb55d-d9f9-49e4-8732-7821b7b44771",
   "metadata": {},
   "source": [
    "## 2) Define AOI and time range\n",
    "\n",
    "Adjust the AOI and the analysis window as needed.\n"
   ]
  },
  {
   "cell_type": "code",
   "execution_count": 4,
   "id": "5aba7027-eae8-4665-83a8-1554f2faf0b0",
   "metadata": {},
   "outputs": [
    {
     "name": "stdout",
     "output_type": "stream",
     "text": [
      "AOI bounds: (74.162312, 32.098403, 74.601359, 32.174052)\n",
      "Time range: ('2025-06-27', '2025-07-17')\n"
     ]
    }
   ],
   "source": [
    "STAC_URL = \"https://stac.eodc.eu/api/v1\"\n",
    "COLLECTION_ID = \"GFM\"\n",
    "\n",
    "aoi_geometry = box(74.162312, 32.098403, 74.601359, 32.174052)  # Pakistan AOI\n",
    "time_range = (\"2025-06-27\", \"2025-07-17\")\n",
    "\n",
    "print(\"AOI bounds:\", aoi_geometry.bounds)\n",
    "print(\"Time range:\", time_range)"
   ]
  },
  {
   "cell_type": "code",
   "execution_count": 24,
   "id": "ae3390fd-6466-48d6-b251-708ff7086be5",
   "metadata": {},
   "outputs": [
    {
     "name": "stdout",
     "output_type": "stream",
     "text": [
      "🔍 Found 29 items.\n",
      "Source CRS: PROJCS[\"Azimuthal_Equidistant\",GEOGCS[\"WGS 84\",DATUM[\"WGS_1984\",SPHEROID[\"WGS 84\",6378137,298.257223563,AUTHORITY[\"EPSG\",\"7030\"]],AUTHORITY[\"EPSG\",\"6326\"]],PRIMEM[\"Greenwich\",0],UNIT[\"degree\",0.0174532925199433],AUTHORITY[\"EPSG\",\"4326\"]],PROJECTION[\"Azimuthal_Equidistant\"],PARAMETER[\"false_easting\",4340913.84808],PARAMETER[\"false_northing\",4812712.92347],PARAMETER[\"longitude_of_center\",94.0],PARAMETER[\"latitude_of_center\",47.0],UNIT[\"metre\",1,AUTHORITY[\"EPSG\",\"9001\"]]]\n",
      "Resolution: 20.0\n"
     ]
    }
   ],
   "source": [
    "# === STAC QUERY ===\n",
    "client = Client.open(STAC_URL)\n",
    "search = client.search(\n",
    "    collections=[COLLECTION_ID],\n",
    "    intersects=mapping(aoi_geometry),\n",
    "    datetime=f\"{time_range[0]}/{time_range[1]}\"\n",
    ")\n",
    "items = search.item_collection()\n",
    "print(f\"🔍 Found {len(items)} items.\")\n",
    "if len(items) == 0:\n",
    "    raise RuntimeError(\"No STAC items found.\")\n",
    "\n",
    "# CRS & resolution\n",
    "crs = pyproj.CRS.from_wkt(items[0].properties[\"proj:wkt2\"])\n",
    "res = items[0].properties.get(\"gsd\", 20.0)\n",
    "print(\"Source CRS:\", crs)\n",
    "print(\"Resolution:\", res)\n",
    "\n",
    "# === LOAD DATA ===\n",
    "xx = odc.stac.load(\n",
    "    items,\n",
    "    crs=crs,\n",
    "    bbox=aoi_geometry.bounds,\n",
    "    bands=[\"ensemble_flood_extent\"],\n",
    "    resolution=res,\n",
    "    dtype=\"uint8\",\n",
    "    fail_on_error=False,\n",
    ")\n",
    "xx = xx.rio.reproject(\"EPSG:4326\")"
   ]
  },
  {
   "cell_type": "code",
   "execution_count": 25,
   "id": "eb7a8d7f-4059-4dcc-9a59-ef0efcd53ee1",
   "metadata": {},
   "outputs": [
    {
     "name": "stdout",
     "output_type": "stream",
     "text": [
      "✅ Saved flood_days.geojson | features: 16950\n",
      "days_flooded\n",
      "1    12734\n",
      "2     2647\n",
      "3     1111\n",
      "4      387\n",
      "5       71\n",
      "Name: count, dtype: int64\n"
     ]
    }
   ],
   "source": [
    "# source\n",
    "flood = xx[\"ensemble_flood_extent\"]  # (time, y, x), uint8, nodata=255 (from your debug)\n",
    "\n",
    "# mask out NoData and make a boolean (flooded / not flooded)\n",
    "nodata = flood.rio.nodata\n",
    "flood_masked = flood.where(flood != nodata) if nodata is not None else flood\n",
    "flood_bool = (flood_masked > 0)\n",
    "\n",
    "# count number of flooded days (sum over time dimension)\n",
    "flood_days = flood_bool.sum(dim=\"time\").astype(\"uint16\")   # (y, x), 0..T\n",
    "\n",
    "# convert to numpy array for shapes()\n",
    "arr = flood_days.data\n",
    "if hasattr(arr, \"compute\"):  # dask -> numpy\n",
    "    arr = arr.compute()\n",
    "arr = np.ascontiguousarray(arr)\n",
    "\n",
    "# polygonize only where days > 0 (8-connectivity)\n",
    "transform = flood_days.rio.transform()\n",
    "mask = arr > 0\n",
    "geoms = shapes(arr, mask=mask, transform=transform, connectivity=8)\n",
    "\n",
    "# build GeoDataFrame with attribute \"days_flooded\"\n",
    "records = [{\"geometry\": shape(geom), \"days_flooded\": int(val)} for geom, val in geoms if val > 0]\n",
    "gdf = gpd.GeoDataFrame(records, geometry=\"geometry\", crs=\"EPSG:4326\")\n",
    "\n",
    "# (optional) small geometry simplification based on resolution, to reduce file size\n",
    "try:\n",
    "    res_x, res_y = map(abs, flood_days.rio.resolution())\n",
    "    tol = 0.5 * min(res_x, res_y)\n",
    "except Exception:\n",
    "    pass\n",
    "\n",
    "# export to GeoJSON\n",
    "out_file = \"flood_days.geojson\"\n",
    "gdf.to_file(out_file, driver=\"GeoJSON\", COORDINATE_PRECISION=6)\n",
    "print(f\"✅ Saved {out_file} | features: {len(gdf)}\")\n",
    "\n",
    "# quick check of value distribution (how many polygons with 1 day, 2 days, …)\n",
    "print(gdf[\"days_flooded\"].value_counts().sort_index().head(20))\n"
   ]
  },
  {
   "cell_type": "code",
   "execution_count": 26,
   "id": "2a46c6e2-c927-4680-9e76-5b8171dc4c63",
   "metadata": {
    "jupyter": {
     "source_hidden": true
    }
   },
   "outputs": [
    {
     "data": {
      "text/html": [
       "\n",
       "<style>\n",
       ".maplibregl-popup-content { \n",
       "  color: #111 !important; \n",
       "  background: #fff !important; \n",
       "}\n",
       ".maplibregl-popup-tip { \n",
       "  border-top-color: #fff !important; \n",
       "}\n",
       ".maplibregl-popup-close-button { \n",
       "  color: #111 !important;\n",
       "}\n",
       "</style>\n"
      ],
      "text/plain": [
       "<IPython.core.display.HTML object>"
      ]
     },
     "execution_count": 26,
     "metadata": {},
     "output_type": "execute_result"
    }
   ],
   "source": [
    "from IPython.display import HTML\n",
    "HTML(\"\"\"\n",
    "<style>\n",
    ".maplibregl-popup-content { \n",
    "  color: #111 !important; \n",
    "  background: #fff !important; \n",
    "}\n",
    ".maplibregl-popup-tip { \n",
    "  border-top-color: #fff !important; \n",
    "}\n",
    ".maplibregl-popup-close-button { \n",
    "  color: #111 !important;\n",
    "}\n",
    "</style>\n",
    "\"\"\")\n"
   ]
  },
  {
   "cell_type": "code",
   "execution_count": 18,
   "id": "36d6246e",
   "metadata": {},
   "outputs": [
    {
     "data": {
      "application/vnd.jupyter.widget-view+json": {
       "model_id": "2635631d842c4b2d9eedb0780e5d9268",
       "version_major": 2,
       "version_minor": 0
      },
      "text/plain": [
       "Container(children=[Row(children=[Col(children=[Col(children=[Map(calls=[['addControl', ('NavigationControl', …"
      ]
     },
     "metadata": {},
     "output_type": "display_data"
    }
   ],
   "source": [
    "MAPTILER_KEY="OT4sLDzLtErb4THhC5yl"\n",
    "url = "flood_days.geojson"\n",
    "# AOI center from bbox (lon/lat!)\n",
    "minx, miny, maxx, maxy = aoi_geometry.bounds   # (lon_min, lat_min, lon_max, lat_max)\n",
    "lon_c = (minx + maxx) / 2\n",
    "lat_c = (miny + maxy) / 2\n",
    "\n",
    "# start the map \"from space\" (global view)\n",
    "m = leafmap.Map(\n",
    "    center=[0, 0],     # global center [lon, lat]\n",
    "    zoom=1,            # far away (world view)\n",
    "    pitch=0,           # flat view initially\n",
    "    bearing=0,\n",
    "    style=f\"https://api.maptiler.com/maps/streets-v2/style.json?key={MAPTILER_KEY}\",\n",
    ")\n",
    "\n",
    "paint_fill = {\n",
    "    \"fill-extrusion-color\": [\n",
    "        \"interpolate\", [\"linear\"], [\"to-number\", [\"get\", \"days_flooded\"]],\n",
    "        1, \"#9ecae1\",   # 1 day → light blue\n",
    "        2, \"#6baed6\",   # 2 days → medium blue\n",
    "        3, \"#4292c6\",  # 3 days → darker blue\n",
    "        4, \"#2171b5\",  # 4 days → deep blue\n",
    "        5, \"#08519c\",  # 5+ days → navy\n",
    "    ],\n",
    "    \"fill-extrusion-height\": [\"to-number\", [\"get\", \"days_flooded\"]],  # height = days\n",
    "    \"fill-extrusion-opacity\": 0.75,\n",
    "}\n",
    "\n",
    "# ... add the flood layer ...\n",
    "m.add_geojson(url, layer_type=\"fill-extrusion\", paint=paint_fill, name=\"flood-extent\", fit_bounds=False)\n",
    "m.add_popup(\"flood-extent\")\n",
    "\n",
    "# animated fly-to the AOI (if fly_to is available)\n",
    "if hasattr(m, \"fly_to\"):\n",
    "    # duration in ms (6 seconds); also set 3D tilt during the flight\n",
    "    m.fly_to(lon=lon_c, lat=lat_c, zoom=16, pitch=45, bearing=0, duration=6000)\n",
    "else:\n",
    "    # fallback: no animation; fit to AOI and set tilt\n",
    "    m.fit_bounds([[minx, miny], [maxx, maxy]])\n",
    "    if hasattr(m, \"set_pitch\"):\n",
    "        m.set_pitch(45)\n",
    "\n",
    "m\n"
   ]
  },
  {
   "cell_type": "code",
   "execution_count": 12,
   "id": "fed0bde8",
   "metadata": {},
   "outputs": [
    {
     "data": {
      "application/vnd.jupyter.widget-view+json": {
       "model_id": "a101ca4477274243940e1b5193672ec3",
       "version_major": 2,
       "version_minor": 0
      },
      "text/plain": [
       "HBox(children=(Dropdown(description='Layer', index=1, options=('background', 'flood-extent'), style=Descriptio…"
      ]
     },
     "execution_count": 12,
     "metadata": {},
     "output_type": "execute_result"
    }
   ],
   "source": [
    "m.layer_interact()"
   ]
  },
  {
   "cell_type": "code",
   "execution_count": null,
   "id": "6b620dea-72f0-45b3-adfd-3ecd0f2e4708",
   "metadata": {},
   "outputs": [],
   "source": []
  }
 ],
 "metadata": {
  "kernelspec": {
   "display_name": "Python (GFM_3D)",
   "language": "python",
   "name": "gfm_3d"
  },
  "language_info": {
   "codemirror_mode": {
    "name": "ipython",
    "version": 3
   },
   "file_extension": ".py",
   "mimetype": "text/x-python",
   "name": "python",
   "nbconvert_exporter": "python",
   "pygments_lexer": "ipython3",
   "version": "3.10.18"
  }
 },
 "nbformat": 4,
 "nbformat_minor": 5
}
