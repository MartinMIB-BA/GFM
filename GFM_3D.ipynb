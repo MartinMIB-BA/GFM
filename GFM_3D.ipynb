{
 "cells": [
  {
   "cell_type": "markdown",
   "id": "7542580e-faf4-452d-ae3b-ee318ab8b45c",
   "metadata": {},
   "source": [
    "## 1) Imports & configuration\n",
    "\n",
    "We import geospatial and visualization libraries and set basic paths.\n"
   ]
  },
  {
   "cell_type": "code",
   "execution_count": 1,
   "id": "e8499ea1-1e6f-497d-b0e2-f7a0ac57ca05",
   "metadata": {},
   "outputs": [],
   "source": [
    "# === IMPORTY ===\n",
    "from shapely.geometry import box, shape, mapping\n",
    "from pystac_client import Client\n",
    "import odc.stac\n",
    "import pyproj\n",
    "import rioxarray\n",
    "import xarray as xr\n",
    "import numpy as np\n",
    "import geopandas as gpd\n",
    "import rasterio\n",
    "from rasterio.features import shapes\n",
    "import os\n",
    "\n",
    "import leafmap.maplibregl as leafmap"
   ]
  },
  {
   "cell_type": "markdown",
   "id": "addeb55d-d9f9-49e4-8732-7821b7b44771",
   "metadata": {},
   "source": [
    "## 2) Define AOI and time range\n",
    "\n",
    "Adjust the AOI and the analysis window as needed.\n"
   ]
  },
  {
   "cell_type": "code",
   "execution_count": 2,
   "id": "5aba7027-eae8-4665-83a8-1554f2faf0b0",
   "metadata": {},
   "outputs": [
    {
     "name": "stdout",
     "output_type": "stream",
     "text": [
      "AOI bounds: (74.162312, 32.098403, 74.601359, 32.174052)\n",
      "Time range: ('2025-06-27', '2025-07-17')\n"
     ]
    }
   ],
   "source": [
    "# === PARAMETRE ===\n",
    "STAC_URL = \"https://stac.eodc.eu/api/v1\"\n",
    "COLLECTION_ID = \"GFM\"\n",
    "\n",
    "aoi_geometry = box(74.162312, 32.098403, 74.601359, 32.174052)  # Pakistan AOI\n",
    "time_range = (\"2025-06-27\", \"2025-07-17\")\n",
    "\n",
    "print(\"AOI bounds:\", aoi_geometry.bounds)\n",
    "print(\"Time range:\", time_range)"
   ]
  },
  {
   "cell_type": "code",
   "execution_count": 3,
   "id": "ae3390fd-6466-48d6-b251-708ff7086be5",
   "metadata": {},
   "outputs": [
    {
     "name": "stdout",
     "output_type": "stream",
     "text": [
      "🔍 Found 29 items.\n",
      "Source CRS: PROJCS[\"Azimuthal_Equidistant\",GEOGCS[\"WGS 84\",DATUM[\"WGS_1984\",SPHEROID[\"WGS 84\",6378137,298.257223563,AUTHORITY[\"EPSG\",\"7030\"]],AUTHORITY[\"EPSG\",\"6326\"]],PRIMEM[\"Greenwich\",0],UNIT[\"degree\",0.0174532925199433],AUTHORITY[\"EPSG\",\"4326\"]],PROJECTION[\"Azimuthal_Equidistant\"],PARAMETER[\"false_easting\",4340913.84808],PARAMETER[\"false_northing\",4812712.92347],PARAMETER[\"longitude_of_center\",94.0],PARAMETER[\"latitude_of_center\",47.0],UNIT[\"metre\",1,AUTHORITY[\"EPSG\",\"9001\"]]]\n",
      "Resolution: 20.0\n"
     ]
    }
   ],
   "source": [
    "# === STAC QUERY ===\n",
    "client = Client.open(STAC_URL)\n",
    "search = client.search(\n",
    "    collections=[COLLECTION_ID],\n",
    "    intersects=mapping(aoi_geometry),\n",
    "    datetime=f\"{time_range[0]}/{time_range[1]}\"\n",
    ")\n",
    "items = search.item_collection()\n",
    "print(f\"🔍 Found {len(items)} items.\")\n",
    "if len(items) == 0:\n",
    "    raise RuntimeError(\"No STAC items found.\")\n",
    "\n",
    "# CRS & resolution\n",
    "crs = pyproj.CRS.from_wkt(items[0].properties[\"proj:wkt2\"])\n",
    "res = items[0].properties.get(\"gsd\", 20.0)\n",
    "print(\"Source CRS:\", crs)\n",
    "print(\"Resolution:\", res)\n",
    "\n",
    "# === LOAD DATA ===\n",
    "xx = odc.stac.load(\n",
    "    items,\n",
    "    crs=crs,\n",
    "    bbox=aoi_geometry.bounds,\n",
    "    bands=[\"ensemble_flood_extent\"],\n",
    "    resolution=res,\n",
    "    dtype=\"uint8\",\n",
    "    fail_on_error=False,\n",
    ")\n",
    "xx = xx.rio.reproject(\"EPSG:4326\")"
   ]
  },
  {
   "cell_type": "code",
   "execution_count": 4,
   "id": "eb7a8d7f-4059-4dcc-9a59-ef0efcd53ee1",
   "metadata": {},
   "outputs": [
    {
     "name": "stdout",
     "output_type": "stream",
     "text": [
      "✅ Saved flood_days.geojson | features: 16950\n",
      "days_flooded\n",
      "1    12734\n",
      "2     2647\n",
      "3     1111\n",
      "4      387\n",
      "5       71\n",
      "Name: count, dtype: int64\n"
     ]
    }
   ],
   "source": [
    "# === FLOOD DAYS → GeoJSON s atribútom days_flooded ===\n",
    "import numpy as np\n",
    "import geopandas as gpd\n",
    "from shapely.geometry import shape\n",
    "from rasterio.features import shapes\n",
    "\n",
    "# 1) zdroj\n",
    "flood = xx[\"ensemble_flood_extent\"]  # (time, y, x), uint8, nodata=255 (podľa tvojho debug)\n",
    "\n",
    "# 2) odmaskuj NoData a sprav bool (zaplavene/ne)\n",
    "nodata = flood.rio.nodata\n",
    "flood_masked = flood.where(flood != nodata) if nodata is not None else flood\n",
    "flood_bool = (flood_masked > 0)\n",
    "\n",
    "# 3) počet dní (sum cez čas)\n",
    "flood_days = flood_bool.sum(dim=\"time\").astype(\"uint16\")   # (y, x), 0..T\n",
    "\n",
    "# 4) numpy pole pre shapes()\n",
    "arr = flood_days.data\n",
    "if hasattr(arr, \"compute\"):  # dask -> numpy\n",
    "    arr = arr.compute()\n",
    "arr = np.ascontiguousarray(arr)\n",
    "\n",
    "# 5) polygonizácia len tam, kde dni > 0 (8-susednosť)\n",
    "transform = flood_days.rio.transform()\n",
    "mask = arr > 0\n",
    "geoms = shapes(arr, mask=mask, transform=transform, connectivity=8)\n",
    "\n",
    "# 6) build GeoDataFrame s atribútom days_flooded\n",
    "records = [{\"geometry\": shape(geom), \"days_flooded\": int(val)} for geom, val in geoms if val > 0]\n",
    "gdf = gpd.GeoDataFrame(records, geometry=\"geometry\", crs=\"EPSG:4326\")\n",
    "\n",
    "# (voliteľné) malé zjednodušenie podľa rozlíšenia, aby bol súbor menší\n",
    "try:\n",
    "    res_x, res_y = map(abs, flood_days.rio.resolution())\n",
    "    tol = 0.5 * min(res_x, res_y)\n",
    "except Exception:\n",
    "    pass\n",
    "\n",
    "# 7) export\n",
    "out_file = \"flood_days.geojson\"\n",
    "gdf.to_file(out_file, driver=\"GeoJSON\", COORDINATE_PRECISION=6)\n",
    "print(f\"✅ Saved {out_file} | features: {len(gdf)}\")\n",
    "\n",
    "# rýchla kontrola rozdelenia hodnôt (koľko polí s 1 dňom, 2 dňami, …)\n",
    "print(gdf[\"days_flooded\"].value_counts().sort_index().head(20))\n"
   ]
  },
  {
   "cell_type": "code",
   "execution_count": 5,
   "id": "2a46c6e2-c927-4680-9e76-5b8171dc4c63",
   "metadata": {
    "jupyter": {
     "source_hidden": true
    }
   },
   "outputs": [
    {
     "data": {
      "text/html": [
       "\n",
       "<style>\n",
       ".maplibregl-popup-content { \n",
       "  color: #111 !important; \n",
       "  background: #fff !important; \n",
       "}\n",
       ".maplibregl-popup-tip { \n",
       "  border-top-color: #fff !important; \n",
       "}\n",
       ".maplibregl-popup-close-button { \n",
       "  color: #111 !important;\n",
       "}\n",
       "</style>\n"
      ],
      "text/plain": [
       "<IPython.core.display.HTML object>"
      ]
     },
     "execution_count": 5,
     "metadata": {},
     "output_type": "execute_result"
    }
   ],
   "source": [
    "from IPython.display import HTML\n",
    "HTML(\"\"\"\n",
    "<style>\n",
    ".maplibregl-popup-content { \n",
    "  color: #111 !important; \n",
    "  background: #fff !important; \n",
    "}\n",
    ".maplibregl-popup-tip { \n",
    "  border-top-color: #fff !important; \n",
    "}\n",
    ".maplibregl-popup-close-button { \n",
    "  color: #111 !important;\n",
    "}\n",
    "</style>\n",
    "\"\"\")\n"
   ]
  },
  {
   "cell_type": "code",
   "execution_count": 17,
   "id": "36d6246e",
   "metadata": {},
   "outputs": [],
   "source": [
    "MAPTILER_KEY = \"OT4sLDzLtErb4THhC5yl\"\n",
    "\n",
    "import leafmap.maplibregl as leafmap\n",
    "\n",
    "m = leafmap.Map(\n",
    "    pitch=45,\n",
    "    bearing=0,\n",
    "    style=f\"https://api.maptiler.com/maps/streets-v2/style.json?key={MAPTILER_KEY}\",\n",
    "    #style=f\"https://api.maptiler.com/maps/satellite/style.json?key={MAPTILER_KEY}\",\n",
    ")\n",
    "\n",
    "url = \"flood_days.geojson\"\n",
    "\n",
    "# 1 m na 1 deň\n",
    "paint_fill = {\n",
    "    \"fill-extrusion-color\": [\n",
    "        \"interpolate\", [\"linear\"], [\"to-number\", [\"get\", \"days_flooded\"]],\n",
    "        1, \"#9ecae1\",\n",
    "        5, \"#6baed6\",\n",
    "        10, \"#4292c6\",\n",
    "        15, \"#2171b5\",\n",
    "        20, \"#08519c\"\n",
    "    ],\n",
    "    \"fill-extrusion-height\": [\"to-number\", [\"get\", \"days_flooded\"]],  # ← 1 m / deň\n",
    "    \"fill-extrusion-base\": 0,\n",
    "    \"fill-extrusion-opacity\": 0.75,\n",
    "}\n",
    "\n",
    "m.add_geojson(url, layer_type=\"fill-extrusion\", paint=paint_fill, name=\"flood-extent\", fit_bounds=True)\n",
    "m.add_popup(\"flood-extent\")  # zobrazí properties (vrátane days_flooded)\n",
    "\n",
    "\n",
    "m.to_html(\"map.html\", title=\"Flood days 3D\")\n"
   ]
  },
  {
   "cell_type": "code",
   "execution_count": 14,
   "id": "fed0bde8",
   "metadata": {},
   "outputs": [
    {
     "data": {
      "application/vnd.jupyter.widget-view+json": {
       "model_id": "0fa36f1d29b2400ea963a7423323cdb1",
       "version_major": 2,
       "version_minor": 0
      },
      "text/plain": [
       "HBox(children=(Dropdown(description='Layer', index=1, options=('background', 'flood-extent'), style=Descriptio…"
      ]
     },
     "execution_count": 14,
     "metadata": {},
     "output_type": "execute_result"
    }
   ],
   "source": [
    "m.layer_interact()"
   ]
  },
  {
   "cell_type": "code",
   "execution_count": 9,
   "id": "237d4681-509c-48ae-af04-78ea11f703db",
   "metadata": {},
   "outputs": [
    {
     "name": "stdout",
     "output_type": "stream",
     "text": [
      "The history saving thread hit an unexpected error (OperationalError('attempt to write a readonly database')).History will not be written to the database.\n"
     ]
    },
    {
     "data": {
      "application/vnd.jupyter.widget-view+json": {
       "model_id": "f57480fbf7c149ccb1bbfa888ff32b75",
       "version_major": 2,
       "version_minor": 0
      },
      "text/plain": [
       "Container(children=[Row(children=[Col(children=[Col(children=[Map(calls=[['addControl', ('NavigationControl', …"
      ]
     },
     "metadata": {},
     "output_type": "display_data"
    }
   ],
   "source": [
    "MAPTILER_KEY = \"OT4sLDzLtErb4THhC5yl\"\n",
    "\n",
    "import json, math\n",
    "import leafmap.maplibregl as leafmap\n",
    "\n",
    "# --- 1) Načítaj GeoJSON a vlož ho INLINE ---\n",
    "with open(\"flood_days.geojson\", \"r\", encoding=\"utf-8\") as f:\n",
    "    fc = json.load(f)\n",
    "assert fc.get(\"features\"), \"GeoJSON je prázdny.\"\n",
    "\n",
    "# --- 2) Mapa (bez vektorového štýlu) ---\n",
    "m = leafmap.Map(pitch=45, bearing=0, center=[0,0], zoom=2)\n",
    "\n",
    "# Podklad RASTER (vyber si JEDEN riadok a druhý nechaj zakomentovaný)\n",
    "\n",
    "# a) OSM (bez kľúča)\n",
    "m.add_tile_layer(\"https://tile.openstreetmap.org/{z}/{x}/{y}.png\",\n",
    "                 name=\"OSM\", opacity=1.0, attribution=\"© OpenStreetMap\")\n",
    "\n",
    "# b) MapTiler raster (s kľúčom) – ak chceš satelit:\n",
    "# m.add_tile_layer(f\"https://api.maptiler.com/tiles/satellite-v2/{{z}}/{{x}}/{{y}}.jpg?key={MAPTILER_KEY}\",\n",
    "#                  name=\"Satellite\", opacity=1.0)\n",
    "\n",
    "# --- 3) Zdroj s vloženými dátami + 3D extrúzia (1 m / 1 deň) ---\n",
    "m.add_source(\"flood-src\", {\"type\": \"geojson\", \"data\": fc})\n",
    "\n",
    "paint_fill = {\n",
    "    \"fill-extrusion-color\": [\n",
    "        \"interpolate\", [\"linear\"], [\"to-number\", [\"coalesce\", [\"get\", \"days_flooded\"], 0]],\n",
    "        0, \"#f0f9ff\",\n",
    "        1, \"#9ecae1\",\n",
    "        5, \"#6baed6\",\n",
    "        10, \"#4292c6\",\n",
    "        15, \"#2171b5\",\n",
    "        20, \"#08519c\",\n",
    "    ],\n",
    "    \"fill-extrusion-height\": [\"to-number\", [\"coalesce\", [\"get\", \"days_flooded\"], 0]],\n",
    "    \"fill-extrusion-opacity\": 0.75,\n",
    "}\n",
    "\n",
    "m.add_layer({\n",
    "    \"id\": \"flood-3d\",\n",
    "    \"type\": \"fill-extrusion\",\n",
    "    \"source\": \"flood-src\",\n",
    "    \"paint\": paint_fill,\n",
    "}, name=\"flood-3d\")\n",
    "\n",
    "# (voliteľné) presný popup (cez 2D hit vrstvu, aby klik vždy ukázal správne hodnoty)\n",
    "m.add_layer({\"id\": \"flood-hit\", \"type\": \"fill\", \"source\": \"flood-src\",\n",
    "             \"paint\": {\"fill-opacity\": 0.0}}, name=\"flood-hit\")\n",
    "m.add_popup(\"flood-hit\")\n",
    "\n",
    "# --- 4) Spoľahlivé fit_bounds z dát ---\n",
    "def fc_bounds(fc):\n",
    "    minx, miny, maxx, maxy = math.inf, math.inf, -math.inf, -math.inf\n",
    "    for ft in fc[\"features\"]:\n",
    "        g = ft.get(\"geometry\", {})\n",
    "        if g.get(\"type\") == \"Polygon\":\n",
    "            for ring in g[\"coordinates\"]:\n",
    "                for x, y in ring:\n",
    "                    minx = x if x < minx else minx\n",
    "                    miny = y if y < miny else miny\n",
    "                    maxx = x if x > maxx else maxx\n",
    "                    maxy = y if y > maxy else maxy\n",
    "        elif g.get(\"type\") == \"MultiPolygon\":\n",
    "            for poly in g[\"coordinates\"]:\n",
    "                for ring in poly:\n",
    "                    for x, y in ring:\n",
    "                        minx = x if x < minx else minx\n",
    "                        miny = y if y < miny else miny\n",
    "                        maxx = x if x > maxx else maxx\n",
    "                        maxy = y if y > maxy else maxy\n",
    "    return [[min(ys := [miny, maxy]), min(xs := [minx, maxx])],\n",
    "            [max(ys), max(xs)]]\n",
    "\n",
    "m.fit_bounds(fc_bounds(fc))\n",
    "\n",
    "# --- 5) Export – HTML obsahuje tvoje dáta priamo v sebe ---\n",
    "m.to_html(\"map.html\", title=\"Flood days 3D (inline)\")\n",
    "print(\"✅ map.html hotové\")\n"
   ]
  },
  {
   "cell_type": "code",
   "execution_count": null,
   "id": "6b620dea-72f0-45b3-adfd-3ecd0f2e4708",
   "metadata": {},
   "outputs": [],
   "source": []
  }
 ],
 "metadata": {
  "kernelspec": {
   "display_name": "Python (GFM_3D)",
   "language": "python",
   "name": "gfm_3d"
  },
  "language_info": {
   "codemirror_mode": {
    "name": "ipython",
    "version": 3
   },
   "file_extension": ".py",
   "mimetype": "text/x-python",
   "name": "python",
   "nbconvert_exporter": "python",
   "pygments_lexer": "ipython3",
   "version": "3.10.18"
  }
 },
 "nbformat": 4,
 "nbformat_minor": 5
}
